{
 "cells": [
  {
   "cell_type": "code",
   "execution_count": 2,
   "metadata": {},
   "outputs": [],
   "source": [
    "import pandas as pd"
   ]
  },
  {
   "cell_type": "code",
   "execution_count": 3,
   "metadata": {},
   "outputs": [
    {
     "data": {
      "text/html": [
       "<div>\n",
       "<style scoped>\n",
       "    .dataframe tbody tr th:only-of-type {\n",
       "        vertical-align: middle;\n",
       "    }\n",
       "\n",
       "    .dataframe tbody tr th {\n",
       "        vertical-align: top;\n",
       "    }\n",
       "\n",
       "    .dataframe thead th {\n",
       "        text-align: right;\n",
       "    }\n",
       "</style>\n",
       "<table border=\"1\" class=\"dataframe\">\n",
       "  <thead>\n",
       "    <tr style=\"text-align: right;\">\n",
       "      <th></th>\n",
       "      <th>Title</th>\n",
       "      <th>Author(s)</th>\n",
       "      <th>ISBN</th>\n",
       "    </tr>\n",
       "  </thead>\n",
       "  <tbody>\n",
       "    <tr>\n",
       "      <th>0</th>\n",
       "      <td>Si vas a soñar hazlo en grande</td>\n",
       "      <td>[{'first_name': 'Juan Carlos', 'last_name': 'B...</td>\n",
       "      <td>9786072927285</td>\n",
       "    </tr>\n",
       "    <tr>\n",
       "      <th>1</th>\n",
       "      <td>Tu calabaza gigante</td>\n",
       "      <td>[{'first_name': 'Juan Carlos', 'last_name': 'B...</td>\n",
       "      <td>9786075941714</td>\n",
       "    </tr>\n",
       "    <tr>\n",
       "      <th>2</th>\n",
       "      <td>Sinergéticos</td>\n",
       "      <td>[{'first_name': 'Jorge', 'last_name': 'Serrato...</td>\n",
       "      <td>9786075962078</td>\n",
       "    </tr>\n",
       "    <tr>\n",
       "      <th>3</th>\n",
       "      <td>Conectando con la energía de la abundancia</td>\n",
       "      <td>[{'first_name': 'Alex Gomez', 'last_name': 'Me...</td>\n",
       "      <td>9786079948580</td>\n",
       "    </tr>\n",
       "    <tr>\n",
       "      <th>4</th>\n",
       "      <td>Cómo escribir un libro extraordinario</td>\n",
       "      <td>[{'first_name': 'Juan Carlos', 'last_name': 'B...</td>\n",
       "      <td>9786079982072</td>\n",
       "    </tr>\n",
       "  </tbody>\n",
       "</table>\n",
       "</div>"
      ],
      "text/plain": [
       "                                        Title  \\\n",
       "0              Si vas a soñar hazlo en grande   \n",
       "1                         Tu calabaza gigante   \n",
       "2                                Sinergéticos   \n",
       "3  Conectando con la energía de la abundancia   \n",
       "4       Cómo escribir un libro extraordinario   \n",
       "\n",
       "                                           Author(s)           ISBN  \n",
       "0  [{'first_name': 'Juan Carlos', 'last_name': 'B...  9786072927285  \n",
       "1  [{'first_name': 'Juan Carlos', 'last_name': 'B...  9786075941714  \n",
       "2  [{'first_name': 'Jorge', 'last_name': 'Serrato...  9786075962078  \n",
       "3  [{'first_name': 'Alex Gomez', 'last_name': 'Me...  9786079948580  \n",
       "4  [{'first_name': 'Juan Carlos', 'last_name': 'B...  9786079982072  "
      ]
     },
     "execution_count": 3,
     "metadata": {},
     "output_type": "execute_result"
    }
   ],
   "source": [
    "books_df = pd.read_json('/home/cordub/code/CorDub/WasEditorialBackend/helpers/books.json')\n",
    "books_df.head()"
   ]
  },
  {
   "cell_type": "code",
   "execution_count": 7,
   "metadata": {},
   "outputs": [
    {
     "data": {
      "text/plain": [
       "ISBN\n",
       "False    85\n",
       "True     65\n",
       "Name: count, dtype: int64"
      ]
     },
     "execution_count": 7,
     "metadata": {},
     "output_type": "execute_result"
    }
   ],
   "source": [
    "duplicated_isbn = books_df['ISBN'].duplicated()\n",
    "duplicated_isbn.value_counts()"
   ]
  }
 ],
 "metadata": {
  "kernelspec": {
   "display_name": "Python 3",
   "language": "python",
   "name": "python3"
  },
  "language_info": {
   "codemirror_mode": {
    "name": "ipython",
    "version": 3
   },
   "file_extension": ".py",
   "mimetype": "text/x-python",
   "name": "python",
   "nbconvert_exporter": "python",
   "pygments_lexer": "ipython3",
   "version": "3.10.6"
  }
 },
 "nbformat": 4,
 "nbformat_minor": 2
}
